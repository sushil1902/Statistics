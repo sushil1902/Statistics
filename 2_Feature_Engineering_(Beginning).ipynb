{
  "cells": [
    {
      "cell_type": "markdown",
      "metadata": {
        "id": "view-in-github",
        "colab_type": "text"
      },
      "source": [
        "<a href=\"https://colab.research.google.com/github/sushil1902/Statistics/blob/main/2_Feature_Engineering_(Beginning).ipynb\" target=\"_parent\"><img src=\"https://colab.research.google.com/assets/colab-badge.svg\" alt=\"Open In Colab\"/></a>"
      ]
    },
    {
      "cell_type": "markdown",
      "metadata": {
        "id": "V7i7Mb3WKWtI"
      },
      "source": [
        "\n",
        "<h1><center><strong>Feature Engineering</strong></center></h1>"
      ]
    },
    {
      "cell_type": "markdown",
      "metadata": {
        "id": "LKqoTLYsbj63"
      },
      "source": [
        "# **Table of Contents**\n",
        "\n",
        "1. [Introduction](#Section1)<br><br>\n",
        "2. [Importing Data](#Section2)<br><br>\n",
        "3. [Dataset Description](#Section3)<br><br>\n",
        "4. [Exploring Data](#Section4)<br><br>\n",
        "5. [Feature Engineering](#Section5)<br><br>"
      ]
    },
    {
      "cell_type": "markdown",
      "metadata": {
        "id": "sVWudZS3keni"
      },
      "source": [
        "<a id = Section1></a>\n",
        "### **1. Introduction**"
      ]
    },
    {
      "cell_type": "markdown",
      "metadata": {
        "id": "vFA2ItBcemtq"
      },
      "source": [
        "- **Feature engineering** is about **creating new input features** from your **existing** ones.\n",
        "\n",
        "- Feature engineering is the process of **transforming raw data** into **features** that **better represent** the underlying **problem** to the predictive models, resulting in **improved** model **accuracy** on unseen data.\n",
        "\n",
        "- Feature engineering is **manually designing** what the **input x’s** should be.\n",
        "\n",
        "<br> \n",
        "\n",
        "- **Advantages** of Feature Engineering:\n",
        "\n",
        "  - Better features means **flexibility**.\n",
        "  \n",
        "  - Better features means **simpler models**.\n",
        "  \n",
        "  - Better features means **better results**.\n",
        "\n",
        "<br> \n",
        "\n",
        "- It is an **art** like engineering is an art, like programming is an art, like medicine is an art.\n",
        "\n",
        "  - There are **well defined procedures** that are methodical, provable and understood.\n",
        "\n",
        "  - The **data** is a **variable** and is **different** every time.\n",
        "  \n",
        "  - We get good at **deciding** which **procedures** to use and when, by **practice**.\n",
        "\n",
        "<br> \n",
        "\n",
        "- **Iterative Process** of Feature Engineering:\n",
        "\n",
        "  - **Brainstorm features**: Really get into the problem, look at a lot of data, study feature engineering on other problems and see what you can steal.\n",
        "  \n",
        "  - **Devise features**: Depends on your problem, but you may use automatic feature extraction, manual feature construction and mixtures of the two.\n",
        "  \n",
        "  - **Evaluate models**: Estimate model accuracy on unseen data using the features."
      ]
    },
    {
      "cell_type": "markdown",
      "metadata": {
        "id": "cDDiXa8VkTk5"
      },
      "source": [
        "<a id = Section2></a>\n",
        "### **2. Importing Data**"
      ]
    },
    {
      "cell_type": "markdown",
      "metadata": {
        "id": "9gMEKsDOlIGP"
      },
      "source": [
        "**Downloading the dataset**"
      ]
    },
    {
      "cell_type": "code",
      "execution_count": null,
      "metadata": {
        "colab": {
          "base_uri": "https://localhost:8080/",
          "height": 286
        },
        "id": "5fqndjSZ3GlP",
        "outputId": "a09daa3f-d28a-45aa-fc6b-a16cdbf2e8b7",
        "scrolled": true
      },
      "outputs": [
        {
          "name": "stderr",
          "output_type": "stream",
          "text": [
            "'wget' is not recognized as an internal or external command,\n",
            "operable program or batch file.\n"
          ]
        }
      ],
      "source": [
        "!wget https://github.com/insaid2018/Term-2/raw/master/Data/train.zip"
      ]
    },
    {
      "cell_type": "markdown",
      "metadata": {
        "id": "pCuCHz3MlLcn"
      },
      "source": [
        "**Unzipping the dataset**"
      ]
    },
    {
      "cell_type": "code",
      "execution_count": null,
      "metadata": {
        "id": "zalyFT-kkYu-",
        "outputId": "7d9aaf9b-10ec-4217-d261-d5578b51979d"
      },
      "outputs": [
        {
          "name": "stderr",
          "output_type": "stream",
          "text": [
            "'unzip' is not recognized as an internal or external command,\n",
            "operable program or batch file.\n"
          ]
        }
      ],
      "source": [
        "!unzip -qq train.zip"
      ]
    },
    {
      "cell_type": "code",
      "execution_count": null,
      "metadata": {
        "colab": {
          "base_uri": "https://localhost:8080/",
          "height": 67
        },
        "id": "HM4bavsPkYx3",
        "outputId": "20ecf089-faf3-40bc-fbb9-ff685dd32af9"
      },
      "outputs": [
        {
          "name": "stderr",
          "output_type": "stream",
          "text": [
            "'ls' is not recognized as an internal or external command,\n",
            "operable program or batch file.\n"
          ]
        }
      ],
      "source": [
        "!ls"
      ]
    },
    {
      "cell_type": "markdown",
      "metadata": {
        "id": "CyW92nvPkZY2"
      },
      "source": [
        "<a id = Section3></a>\n",
        "### **3. Dataset Description**"
      ]
    },
    {
      "cell_type": "markdown",
      "metadata": {
        "id": "Gfu48L8Pmbm2"
      },
      "source": [
        "#### **Problem Statement:**"
      ]
    },
    {
      "cell_type": "markdown",
      "metadata": {
        "id": "yAqnU7U0mNda"
      },
      "source": [
        "- XYZ Credit Card company regularly helps it’s merchants **understand** their **data** better and take key business decisions accurately by providing **machine learning** and **analytics consulting**.\n",
        "\n",
        "  - ABC is an established Brick & Mortar retailer that frequently conducts marketing campaigns for its diverse product range.\n",
        "  \n",
        "  - As a merchant of XYZ, they have sought XYZ to **assist** them in their **discount marketing** process using the power of machine learning.\n",
        "\n",
        "- **Discount marketing** and **coupon usage** are very widely used **promotional techniques** to **attract new customers** and to **retain** & **reinforce loyalty** of existing customers.\n",
        "\n",
        "  - The measurement of a **consumer’s propensity towards coupon usage** and the **prediction** of the **redemption behavior** are crucial parameters in assessing the effectiveness of a marketing campaign.\n",
        "\n",
        "- ABC’s promotions are shared across various channels including email, notifications, etc.\n",
        "\n",
        "  - A number of these campaigns include **coupon discounts** that are offered for a specific product/range of products.\n",
        "  \n",
        "  - The retailer would like the ability to **predict** whether **customers redeem** the **coupons** received across channels, which will enable the retailer’s marketing team to accurately design coupon construct, and develop more precise and targeted marketing strategies.\n",
        "\n",
        "- The data available in this problem contains the following information, including the details of a sample of campaigns and coupons used in previous campaigns:\n",
        "\n",
        "  - **User Demographic** Details\n",
        "  \n",
        "  - **Campaign** and **coupon** Details\n",
        "  \n",
        "  - **Product** details\n",
        "  \n",
        "  - **Previous transactions**\n",
        "\n",
        "- Based on previous transaction & performance data from the **last campaigns**, **predict** the probability for the **next campaigns** for each **coupon** and **customer combination**, whether the **customer** will **redeem** the coupon or not?"
      ]
    },
    {
      "cell_type": "markdown",
      "metadata": {
        "id": "sbnhEKr6mjam"
      },
      "source": [
        "#### **Description:**"
      ]
    },
    {
      "cell_type": "markdown",
      "metadata": {
        "id": "tVTGud1hoCQD"
      },
      "source": [
        "- Here is the **schema** for the different data tables available."
      ]
    },
    {
      "cell_type": "markdown",
      "metadata": {
        "id": "J2z8Zuja8rH8"
      },
      "source": [
        "<center><img src=\"https://raw.githubusercontent.com/insaid2018/Term-2/master/images/dataset_schema.png\" width=\"1000\"/></center>"
      ]
    },
    {
      "cell_type": "markdown",
      "metadata": {
        "id": "Q-Ulvw7voFGQ"
      },
      "source": [
        "`train.csv:` Train data containing the **coupons offered** to the given customers under the campaigns.\n",
        "\n",
        "| **Variable**      | **Definition**                                          |\n",
        "| :---------------: | :-----------------------------------------------------: |\n",
        "| id                | Unique id for coupon customer impression                |\n",
        "| campaign_id       | Unique id for a discount campaign                       |\n",
        "| coupon_id         | Unique id for a discount coupon                         |\n",
        "| customer_id       | Unique id for a customer                                |\n",
        "| redemption_status | (Target) (0 - Coupon not redeemed, 1 - Coupon redeemed) |\n",
        "\n",
        "<br> \n",
        "\n",
        "`campaign_data.csv:` **Campaign information** for each of the campaigns.\n",
        "\n",
        "| **Variable**  | **Definition**                    |\n",
        "| :-----------: | :-------------------------------: |\n",
        "| campaign_id   | Unique id for a discount campaign |\n",
        "| campaign_type | Anonymized Campaign Type (X/Y)    |\n",
        "| start_date    | Campaign Start Date               |\n",
        "| end_date      | Campaign End Date                 |\n",
        "\n",
        "<br> \n",
        "\n",
        "`coupon_item_mapping.csv:` **Mapping** of **coupon and items** valid for discount under that coupon.\n",
        "\n",
        "| **Variable** | **Definition**                                               |\n",
        "| :----------: | :----------------------------------------------------------: |\n",
        "| coupon_id    | Unique id for a discount coupon (no order)                   |\n",
        "| item_id      | Unique id for items for which given coupon is valid (no order) |\n",
        "\n",
        "<br> \n",
        "\n",
        "`customer_demographics.csv:` **Customer demographic information** for some customers.\n",
        "\n",
        "| **Variable**   | **Definition**                                               |\n",
        "| :------------: | :----------------------------------------------------------: |\n",
        "| customer_id    | Unique id for a customer                                     |\n",
        "| age_range      | Age range of customer family in years                        |\n",
        "| marital_status | Married/Single                                               |\n",
        "| rented         | 0 - not rented accommodation, 1 - rented accommodation       |\n",
        "| family_size    | Number of family members                                     |\n",
        "| no_of_children | Number of children in the family                             |\n",
        "| income_bracket | Label Encoded Income Bracket (Higher income corresponds to higher number) |\n",
        "\n",
        "<br> \n",
        "\n",
        "`customer_transaction_data.csv:` **Transaction data** for all customers for duration of campaigns in the data.\n",
        "\n",
        "| **Variable**    | **Definition**                                               |\n",
        "| :-------------: | :----------------------------------------------------------: |\n",
        "| date            | Date of Transaction                                          |\n",
        "| customer_id     | Unique id for a customer                                     |\n",
        "| item_id         | Unique id for item                                           |\n",
        "| quantity        | quantity of item bought                                      |\n",
        "| selling_price   | Sales value of the transaction                               |\n",
        "| other_discount  | Discount from other sources such as manufacturer coupon/loyalty card |\n",
        "| coupon_discount | Discount availed from retailer coupon                        |\n",
        "\n",
        "<br> \n",
        "\n",
        "`item_data.csv:` **Item information** for each item sold by the retailer.\n",
        "\n",
        "| Variable   | Definition                     |\n",
        "| :--------: | :----------------------------: |\n",
        "| item_id    | Unique id for item             |\n",
        "| brand      | Unique id for item brand       |\n",
        "| brand_type | Brand Type (local/Established) |\n",
        "| category   | Item Category                  |\n"
      ]
    },
    {
      "cell_type": "markdown",
      "metadata": {
        "id": "rBZi2X9NlP74"
      },
      "source": [
        "#### **Loading Data**"
      ]
    },
    {
      "cell_type": "code",
      "execution_count": null,
      "metadata": {
        "id": "L9uhnZu5k85O"
      },
      "outputs": [],
      "source": [
        "import numpy as np\n",
        "import pandas as pd\n",
        "\n",
        "import matplotlib.pyplot as plt\n",
        "%matplotlib inline\n",
        "\n",
        "import seaborn as sns\n",
        "\n",
        "from datetime import datetime"
      ]
    },
    {
      "cell_type": "code",
      "execution_count": null,
      "metadata": {
        "id": "PUxu62CFkZDG"
      },
      "outputs": [],
      "source": [
        "train = pd.read_csv('train.csv')\n",
        "campaign_data = pd.read_csv('campaign_data.csv')\n",
        "coupon_item_mapping = pd.read_csv('coupon_item_mapping.csv')\n",
        "customer_demographics = pd.read_csv('customer_demographics.csv')\n",
        "customer_transaction_data = pd.read_csv('customer_transaction_data.csv')\n",
        "item_data = pd.read_csv('item_data.csv')"
      ]
    },
    {
      "cell_type": "code",
      "execution_count": null,
      "metadata": {
        "colab": {
          "base_uri": "https://localhost:8080/",
          "height": 118
        },
        "id": "Cl1JEj_etMwn",
        "outputId": "8241f164-956d-4f53-83ed-1e6adb4e9c21"
      },
      "outputs": [
        {
          "name": "stdout",
          "output_type": "stream",
          "text": [
            "train : (78369, 5)\n",
            "campaign_data : (28, 4)\n",
            "coupon_item_mapping : (92663, 2)\n",
            "customer_demographics : (760, 7)\n",
            "customer_transaction_data : (1324566, 7)\n",
            "item_data : (74066, 4)\n"
          ]
        }
      ],
      "source": [
        "print('train :', train.shape)\n",
        "print('campaign_data :', campaign_data.shape)\n",
        "print('coupon_item_mapping :', coupon_item_mapping.shape)\n",
        "print('customer_demographics :', customer_demographics.shape)\n",
        "print('customer_transaction_data :', customer_transaction_data.shape)\n",
        "print('item_data :', item_data.shape)"
      ]
    },
    {
      "cell_type": "markdown",
      "metadata": {
        "id": "wKqD9Wwo5-Pq"
      },
      "source": [
        "<a id = Section4></a>\n",
        "### **4. Exploring Data**"
      ]
    },
    {
      "cell_type": "markdown",
      "metadata": {
        "id": "Wjlq6TH-t8_v"
      },
      "source": [
        "#### **Train Data**"
      ]
    },
    {
      "cell_type": "code",
      "execution_count": null,
      "metadata": {
        "colab": {
          "base_uri": "https://localhost:8080/",
          "height": 195
        },
        "id": "Z1o803cdt6SA",
        "outputId": "9dd8e10f-81f3-415d-a40d-a796b4d89b0d"
      },
      "outputs": [
        {
          "data": {
            "text/html": [
              "<div>\n",
              "<style scoped>\n",
              "    .dataframe tbody tr th:only-of-type {\n",
              "        vertical-align: middle;\n",
              "    }\n",
              "\n",
              "    .dataframe tbody tr th {\n",
              "        vertical-align: top;\n",
              "    }\n",
              "\n",
              "    .dataframe thead th {\n",
              "        text-align: right;\n",
              "    }\n",
              "</style>\n",
              "<table border=\"1\" class=\"dataframe\">\n",
              "  <thead>\n",
              "    <tr style=\"text-align: right;\">\n",
              "      <th></th>\n",
              "      <th>id</th>\n",
              "      <th>campaign_id</th>\n",
              "      <th>coupon_id</th>\n",
              "      <th>customer_id</th>\n",
              "      <th>redemption_status</th>\n",
              "    </tr>\n",
              "  </thead>\n",
              "  <tbody>\n",
              "    <tr>\n",
              "      <td>0</td>\n",
              "      <td>1</td>\n",
              "      <td>13</td>\n",
              "      <td>27</td>\n",
              "      <td>1053</td>\n",
              "      <td>0</td>\n",
              "    </tr>\n",
              "    <tr>\n",
              "      <td>1</td>\n",
              "      <td>2</td>\n",
              "      <td>13</td>\n",
              "      <td>116</td>\n",
              "      <td>48</td>\n",
              "      <td>0</td>\n",
              "    </tr>\n",
              "    <tr>\n",
              "      <td>2</td>\n",
              "      <td>6</td>\n",
              "      <td>9</td>\n",
              "      <td>635</td>\n",
              "      <td>205</td>\n",
              "      <td>0</td>\n",
              "    </tr>\n",
              "    <tr>\n",
              "      <td>3</td>\n",
              "      <td>7</td>\n",
              "      <td>13</td>\n",
              "      <td>644</td>\n",
              "      <td>1050</td>\n",
              "      <td>0</td>\n",
              "    </tr>\n",
              "    <tr>\n",
              "      <td>4</td>\n",
              "      <td>9</td>\n",
              "      <td>8</td>\n",
              "      <td>1017</td>\n",
              "      <td>1489</td>\n",
              "      <td>0</td>\n",
              "    </tr>\n",
              "  </tbody>\n",
              "</table>\n",
              "</div>"
            ],
            "text/plain": [
              "   id  campaign_id  coupon_id  customer_id  redemption_status\n",
              "0   1           13         27         1053                  0\n",
              "1   2           13        116           48                  0\n",
              "2   6            9        635          205                  0\n",
              "3   7           13        644         1050                  0\n",
              "4   9            8       1017         1489                  0"
            ]
          },
          "execution_count": 9,
          "metadata": {},
          "output_type": "execute_result"
        }
      ],
      "source": [
        "train.head()"
      ]
    },
    {
      "cell_type": "code",
      "execution_count": null,
      "metadata": {
        "colab": {
          "base_uri": "https://localhost:8080/",
          "height": 218
        },
        "id": "uheSCluRuBsw",
        "outputId": "32c15a6b-725b-4213-e715-a886fd448623"
      },
      "outputs": [
        {
          "name": "stdout",
          "output_type": "stream",
          "text": [
            "<class 'pandas.core.frame.DataFrame'>\n",
            "RangeIndex: 78369 entries, 0 to 78368\n",
            "Data columns (total 5 columns):\n",
            "id                   78369 non-null int64\n",
            "campaign_id          78369 non-null int64\n",
            "coupon_id            78369 non-null int64\n",
            "customer_id          78369 non-null int64\n",
            "redemption_status    78369 non-null int64\n",
            "dtypes: int64(5)\n",
            "memory usage: 3.0 MB\n"
          ]
        }
      ],
      "source": [
        "train.info()"
      ]
    },
    {
      "cell_type": "markdown",
      "metadata": {
        "id": "Gps4WoheuIix"
      },
      "source": [
        "#### **Campaign Data**"
      ]
    },
    {
      "cell_type": "code",
      "execution_count": null,
      "metadata": {
        "colab": {
          "base_uri": "https://localhost:8080/",
          "height": 195
        },
        "id": "PwOFHYcLuLDf",
        "outputId": "261309a3-d7a1-4857-9bf9-1814b66ed8be"
      },
      "outputs": [
        {
          "data": {
            "text/html": [
              "<div>\n",
              "<style scoped>\n",
              "    .dataframe tbody tr th:only-of-type {\n",
              "        vertical-align: middle;\n",
              "    }\n",
              "\n",
              "    .dataframe tbody tr th {\n",
              "        vertical-align: top;\n",
              "    }\n",
              "\n",
              "    .dataframe thead th {\n",
              "        text-align: right;\n",
              "    }\n",
              "</style>\n",
              "<table border=\"1\" class=\"dataframe\">\n",
              "  <thead>\n",
              "    <tr style=\"text-align: right;\">\n",
              "      <th></th>\n",
              "      <th>campaign_id</th>\n",
              "      <th>campaign_type</th>\n",
              "      <th>start_date</th>\n",
              "      <th>end_date</th>\n",
              "    </tr>\n",
              "  </thead>\n",
              "  <tbody>\n",
              "    <tr>\n",
              "      <td>0</td>\n",
              "      <td>24</td>\n",
              "      <td>Y</td>\n",
              "      <td>21/10/13</td>\n",
              "      <td>20/12/13</td>\n",
              "    </tr>\n",
              "    <tr>\n",
              "      <td>1</td>\n",
              "      <td>25</td>\n",
              "      <td>Y</td>\n",
              "      <td>21/10/13</td>\n",
              "      <td>22/11/13</td>\n",
              "    </tr>\n",
              "    <tr>\n",
              "      <td>2</td>\n",
              "      <td>20</td>\n",
              "      <td>Y</td>\n",
              "      <td>07/09/13</td>\n",
              "      <td>16/11/13</td>\n",
              "    </tr>\n",
              "    <tr>\n",
              "      <td>3</td>\n",
              "      <td>23</td>\n",
              "      <td>Y</td>\n",
              "      <td>08/10/13</td>\n",
              "      <td>15/11/13</td>\n",
              "    </tr>\n",
              "    <tr>\n",
              "      <td>4</td>\n",
              "      <td>21</td>\n",
              "      <td>Y</td>\n",
              "      <td>16/09/13</td>\n",
              "      <td>18/10/13</td>\n",
              "    </tr>\n",
              "  </tbody>\n",
              "</table>\n",
              "</div>"
            ],
            "text/plain": [
              "   campaign_id campaign_type start_date  end_date\n",
              "0           24             Y   21/10/13  20/12/13\n",
              "1           25             Y   21/10/13  22/11/13\n",
              "2           20             Y   07/09/13  16/11/13\n",
              "3           23             Y   08/10/13  15/11/13\n",
              "4           21             Y   16/09/13  18/10/13"
            ]
          },
          "execution_count": 11,
          "metadata": {},
          "output_type": "execute_result"
        }
      ],
      "source": [
        "campaign_data.head()"
      ]
    },
    {
      "cell_type": "code",
      "execution_count": null,
      "metadata": {
        "colab": {
          "base_uri": "https://localhost:8080/",
          "height": 202
        },
        "id": "GGXtqaf0uLFl",
        "outputId": "9b5abca8-9cfb-4f1a-bbc5-8e8dc0df7d23"
      },
      "outputs": [
        {
          "name": "stdout",
          "output_type": "stream",
          "text": [
            "<class 'pandas.core.frame.DataFrame'>\n",
            "RangeIndex: 28 entries, 0 to 27\n",
            "Data columns (total 4 columns):\n",
            "campaign_id      28 non-null int64\n",
            "campaign_type    28 non-null object\n",
            "start_date       28 non-null object\n",
            "end_date         28 non-null object\n",
            "dtypes: int64(1), object(3)\n",
            "memory usage: 1.0+ KB\n"
          ]
        }
      ],
      "source": [
        "campaign_data.info()"
      ]
    },
    {
      "cell_type": "markdown",
      "metadata": {
        "id": "QhVp8iQXuLSo"
      },
      "source": [
        "#### **Coupon Item Mapping**"
      ]
    },
    {
      "cell_type": "code",
      "execution_count": null,
      "metadata": {
        "colab": {
          "base_uri": "https://localhost:8080/",
          "height": 195
        },
        "id": "Tdp56nhruLbA",
        "outputId": "b6a313fa-2ae5-43db-ca5d-64c9c13d7161"
      },
      "outputs": [
        {
          "data": {
            "text/html": [
              "<div>\n",
              "<style scoped>\n",
              "    .dataframe tbody tr th:only-of-type {\n",
              "        vertical-align: middle;\n",
              "    }\n",
              "\n",
              "    .dataframe tbody tr th {\n",
              "        vertical-align: top;\n",
              "    }\n",
              "\n",
              "    .dataframe thead th {\n",
              "        text-align: right;\n",
              "    }\n",
              "</style>\n",
              "<table border=\"1\" class=\"dataframe\">\n",
              "  <thead>\n",
              "    <tr style=\"text-align: right;\">\n",
              "      <th></th>\n",
              "      <th>coupon_id</th>\n",
              "      <th>item_id</th>\n",
              "    </tr>\n",
              "  </thead>\n",
              "  <tbody>\n",
              "    <tr>\n",
              "      <td>0</td>\n",
              "      <td>105</td>\n",
              "      <td>37</td>\n",
              "    </tr>\n",
              "    <tr>\n",
              "      <td>1</td>\n",
              "      <td>107</td>\n",
              "      <td>75</td>\n",
              "    </tr>\n",
              "    <tr>\n",
              "      <td>2</td>\n",
              "      <td>494</td>\n",
              "      <td>76</td>\n",
              "    </tr>\n",
              "    <tr>\n",
              "      <td>3</td>\n",
              "      <td>522</td>\n",
              "      <td>77</td>\n",
              "    </tr>\n",
              "    <tr>\n",
              "      <td>4</td>\n",
              "      <td>518</td>\n",
              "      <td>77</td>\n",
              "    </tr>\n",
              "  </tbody>\n",
              "</table>\n",
              "</div>"
            ],
            "text/plain": [
              "   coupon_id  item_id\n",
              "0        105       37\n",
              "1        107       75\n",
              "2        494       76\n",
              "3        522       77\n",
              "4        518       77"
            ]
          },
          "execution_count": 13,
          "metadata": {},
          "output_type": "execute_result"
        }
      ],
      "source": [
        "coupon_item_mapping.head()"
      ]
    },
    {
      "cell_type": "code",
      "execution_count": null,
      "metadata": {
        "colab": {
          "base_uri": "https://localhost:8080/",
          "height": 168
        },
        "id": "jzJr3e3NuLdR",
        "outputId": "b91950c9-ed56-41ff-9709-b3450f25b945"
      },
      "outputs": [
        {
          "name": "stdout",
          "output_type": "stream",
          "text": [
            "<class 'pandas.core.frame.DataFrame'>\n",
            "RangeIndex: 92663 entries, 0 to 92662\n",
            "Data columns (total 2 columns):\n",
            "coupon_id    92663 non-null int64\n",
            "item_id      92663 non-null int64\n",
            "dtypes: int64(2)\n",
            "memory usage: 1.4 MB\n"
          ]
        }
      ],
      "source": [
        "coupon_item_mapping.info()"
      ]
    },
    {
      "cell_type": "markdown",
      "metadata": {
        "id": "imwKF3NPuLuP"
      },
      "source": [
        "#### **Customer Demographics**"
      ]
    },
    {
      "cell_type": "code",
      "execution_count": null,
      "metadata": {
        "colab": {
          "base_uri": "https://localhost:8080/",
          "height": 195
        },
        "id": "TjNUkFE2uL2f",
        "outputId": "12597506-ed6d-45b8-9246-dc41b6affa15"
      },
      "outputs": [
        {
          "data": {
            "text/html": [
              "<div>\n",
              "<style scoped>\n",
              "    .dataframe tbody tr th:only-of-type {\n",
              "        vertical-align: middle;\n",
              "    }\n",
              "\n",
              "    .dataframe tbody tr th {\n",
              "        vertical-align: top;\n",
              "    }\n",
              "\n",
              "    .dataframe thead th {\n",
              "        text-align: right;\n",
              "    }\n",
              "</style>\n",
              "<table border=\"1\" class=\"dataframe\">\n",
              "  <thead>\n",
              "    <tr style=\"text-align: right;\">\n",
              "      <th></th>\n",
              "      <th>customer_id</th>\n",
              "      <th>age_range</th>\n",
              "      <th>marital_status</th>\n",
              "      <th>rented</th>\n",
              "      <th>family_size</th>\n",
              "      <th>no_of_children</th>\n",
              "      <th>income_bracket</th>\n",
              "    </tr>\n",
              "  </thead>\n",
              "  <tbody>\n",
              "    <tr>\n",
              "      <td>0</td>\n",
              "      <td>1</td>\n",
              "      <td>70+</td>\n",
              "      <td>Married</td>\n",
              "      <td>0</td>\n",
              "      <td>2</td>\n",
              "      <td>NaN</td>\n",
              "      <td>4</td>\n",
              "    </tr>\n",
              "    <tr>\n",
              "      <td>1</td>\n",
              "      <td>6</td>\n",
              "      <td>46-55</td>\n",
              "      <td>Married</td>\n",
              "      <td>0</td>\n",
              "      <td>2</td>\n",
              "      <td>NaN</td>\n",
              "      <td>5</td>\n",
              "    </tr>\n",
              "    <tr>\n",
              "      <td>2</td>\n",
              "      <td>7</td>\n",
              "      <td>26-35</td>\n",
              "      <td>NaN</td>\n",
              "      <td>0</td>\n",
              "      <td>3</td>\n",
              "      <td>1</td>\n",
              "      <td>3</td>\n",
              "    </tr>\n",
              "    <tr>\n",
              "      <td>3</td>\n",
              "      <td>8</td>\n",
              "      <td>26-35</td>\n",
              "      <td>NaN</td>\n",
              "      <td>0</td>\n",
              "      <td>4</td>\n",
              "      <td>2</td>\n",
              "      <td>6</td>\n",
              "    </tr>\n",
              "    <tr>\n",
              "      <td>4</td>\n",
              "      <td>10</td>\n",
              "      <td>46-55</td>\n",
              "      <td>Single</td>\n",
              "      <td>0</td>\n",
              "      <td>1</td>\n",
              "      <td>NaN</td>\n",
              "      <td>5</td>\n",
              "    </tr>\n",
              "  </tbody>\n",
              "</table>\n",
              "</div>"
            ],
            "text/plain": [
              "   customer_id age_range marital_status  rented family_size no_of_children  \\\n",
              "0            1       70+        Married       0           2            NaN   \n",
              "1            6     46-55        Married       0           2            NaN   \n",
              "2            7     26-35            NaN       0           3              1   \n",
              "3            8     26-35            NaN       0           4              2   \n",
              "4           10     46-55         Single       0           1            NaN   \n",
              "\n",
              "   income_bracket  \n",
              "0               4  \n",
              "1               5  \n",
              "2               3  \n",
              "3               6  \n",
              "4               5  "
            ]
          },
          "execution_count": 15,
          "metadata": {},
          "output_type": "execute_result"
        }
      ],
      "source": [
        "customer_demographics.head()"
      ]
    },
    {
      "cell_type": "code",
      "execution_count": null,
      "metadata": {
        "colab": {
          "base_uri": "https://localhost:8080/",
          "height": 252
        },
        "id": "QIolcF_-uL4u",
        "outputId": "18d2a591-66d1-43c9-8a4d-50334fb884c9"
      },
      "outputs": [
        {
          "name": "stdout",
          "output_type": "stream",
          "text": [
            "<class 'pandas.core.frame.DataFrame'>\n",
            "RangeIndex: 760 entries, 0 to 759\n",
            "Data columns (total 7 columns):\n",
            "customer_id       760 non-null int64\n",
            "age_range         760 non-null object\n",
            "marital_status    431 non-null object\n",
            "rented            760 non-null int64\n",
            "family_size       760 non-null object\n",
            "no_of_children    222 non-null object\n",
            "income_bracket    760 non-null int64\n",
            "dtypes: int64(3), object(4)\n",
            "memory usage: 41.7+ KB\n"
          ]
        }
      ],
      "source": [
        "customer_demographics.info()"
      ]
    },
    {
      "cell_type": "markdown",
      "metadata": {
        "id": "xjIjjkN3uMCr"
      },
      "source": [
        "#### **Customer Transaction Data**"
      ]
    },
    {
      "cell_type": "code",
      "execution_count": null,
      "metadata": {
        "colab": {
          "base_uri": "https://localhost:8080/",
          "height": 195
        },
        "id": "dyQzBEHkuMMv",
        "outputId": "196737ca-51f1-43f7-fd2a-58dcb817801c"
      },
      "outputs": [
        {
          "data": {
            "text/html": [
              "<div>\n",
              "<style scoped>\n",
              "    .dataframe tbody tr th:only-of-type {\n",
              "        vertical-align: middle;\n",
              "    }\n",
              "\n",
              "    .dataframe tbody tr th {\n",
              "        vertical-align: top;\n",
              "    }\n",
              "\n",
              "    .dataframe thead th {\n",
              "        text-align: right;\n",
              "    }\n",
              "</style>\n",
              "<table border=\"1\" class=\"dataframe\">\n",
              "  <thead>\n",
              "    <tr style=\"text-align: right;\">\n",
              "      <th></th>\n",
              "      <th>date</th>\n",
              "      <th>customer_id</th>\n",
              "      <th>item_id</th>\n",
              "      <th>quantity</th>\n",
              "      <th>selling_price</th>\n",
              "      <th>other_discount</th>\n",
              "      <th>coupon_discount</th>\n",
              "    </tr>\n",
              "  </thead>\n",
              "  <tbody>\n",
              "    <tr>\n",
              "      <td>0</td>\n",
              "      <td>2012-01-02</td>\n",
              "      <td>1501</td>\n",
              "      <td>26830</td>\n",
              "      <td>1</td>\n",
              "      <td>35.26</td>\n",
              "      <td>-10.69</td>\n",
              "      <td>0.0</td>\n",
              "    </tr>\n",
              "    <tr>\n",
              "      <td>1</td>\n",
              "      <td>2012-01-02</td>\n",
              "      <td>1501</td>\n",
              "      <td>54253</td>\n",
              "      <td>1</td>\n",
              "      <td>53.43</td>\n",
              "      <td>-13.89</td>\n",
              "      <td>0.0</td>\n",
              "    </tr>\n",
              "    <tr>\n",
              "      <td>2</td>\n",
              "      <td>2012-01-02</td>\n",
              "      <td>1501</td>\n",
              "      <td>31962</td>\n",
              "      <td>1</td>\n",
              "      <td>106.50</td>\n",
              "      <td>-14.25</td>\n",
              "      <td>0.0</td>\n",
              "    </tr>\n",
              "    <tr>\n",
              "      <td>3</td>\n",
              "      <td>2012-01-02</td>\n",
              "      <td>1501</td>\n",
              "      <td>33647</td>\n",
              "      <td>1</td>\n",
              "      <td>67.32</td>\n",
              "      <td>0.00</td>\n",
              "      <td>0.0</td>\n",
              "    </tr>\n",
              "    <tr>\n",
              "      <td>4</td>\n",
              "      <td>2012-01-02</td>\n",
              "      <td>1501</td>\n",
              "      <td>48199</td>\n",
              "      <td>1</td>\n",
              "      <td>71.24</td>\n",
              "      <td>-28.14</td>\n",
              "      <td>0.0</td>\n",
              "    </tr>\n",
              "  </tbody>\n",
              "</table>\n",
              "</div>"
            ],
            "text/plain": [
              "         date  customer_id  item_id  quantity  selling_price  other_discount  \\\n",
              "0  2012-01-02         1501    26830         1          35.26          -10.69   \n",
              "1  2012-01-02         1501    54253         1          53.43          -13.89   \n",
              "2  2012-01-02         1501    31962         1         106.50          -14.25   \n",
              "3  2012-01-02         1501    33647         1          67.32            0.00   \n",
              "4  2012-01-02         1501    48199         1          71.24          -28.14   \n",
              "\n",
              "   coupon_discount  \n",
              "0              0.0  \n",
              "1              0.0  \n",
              "2              0.0  \n",
              "3              0.0  \n",
              "4              0.0  "
            ]
          },
          "execution_count": 17,
          "metadata": {},
          "output_type": "execute_result"
        }
      ],
      "source": [
        "customer_transaction_data.head()"
      ]
    },
    {
      "cell_type": "code",
      "execution_count": null,
      "metadata": {
        "colab": {
          "base_uri": "https://localhost:8080/",
          "height": 252
        },
        "id": "4zz8pAEkuMRx",
        "outputId": "3eaee908-6b86-4e08-9295-8cfa2a637930"
      },
      "outputs": [
        {
          "name": "stdout",
          "output_type": "stream",
          "text": [
            "<class 'pandas.core.frame.DataFrame'>\n",
            "RangeIndex: 1324566 entries, 0 to 1324565\n",
            "Data columns (total 7 columns):\n",
            "date               1324566 non-null object\n",
            "customer_id        1324566 non-null int64\n",
            "item_id            1324566 non-null int64\n",
            "quantity           1324566 non-null int64\n",
            "selling_price      1324566 non-null float64\n",
            "other_discount     1324566 non-null float64\n",
            "coupon_discount    1324566 non-null float64\n",
            "dtypes: float64(3), int64(3), object(1)\n",
            "memory usage: 70.7+ MB\n"
          ]
        }
      ],
      "source": [
        "customer_transaction_data.info()"
      ]
    },
    {
      "cell_type": "markdown",
      "metadata": {
        "id": "1qFo6gi3uMbg"
      },
      "source": [
        "#### **Item Data**"
      ]
    },
    {
      "cell_type": "code",
      "execution_count": null,
      "metadata": {
        "colab": {
          "base_uri": "https://localhost:8080/",
          "height": 195
        },
        "id": "4U6jD0VmuMkX",
        "outputId": "b57a5d92-c767-4e5f-e210-31dabad1fb27"
      },
      "outputs": [
        {
          "data": {
            "text/html": [
              "<div>\n",
              "<style scoped>\n",
              "    .dataframe tbody tr th:only-of-type {\n",
              "        vertical-align: middle;\n",
              "    }\n",
              "\n",
              "    .dataframe tbody tr th {\n",
              "        vertical-align: top;\n",
              "    }\n",
              "\n",
              "    .dataframe thead th {\n",
              "        text-align: right;\n",
              "    }\n",
              "</style>\n",
              "<table border=\"1\" class=\"dataframe\">\n",
              "  <thead>\n",
              "    <tr style=\"text-align: right;\">\n",
              "      <th></th>\n",
              "      <th>item_id</th>\n",
              "      <th>brand</th>\n",
              "      <th>brand_type</th>\n",
              "      <th>category</th>\n",
              "    </tr>\n",
              "  </thead>\n",
              "  <tbody>\n",
              "    <tr>\n",
              "      <td>0</td>\n",
              "      <td>1</td>\n",
              "      <td>1</td>\n",
              "      <td>Established</td>\n",
              "      <td>Grocery</td>\n",
              "    </tr>\n",
              "    <tr>\n",
              "      <td>1</td>\n",
              "      <td>2</td>\n",
              "      <td>1</td>\n",
              "      <td>Established</td>\n",
              "      <td>Miscellaneous</td>\n",
              "    </tr>\n",
              "    <tr>\n",
              "      <td>2</td>\n",
              "      <td>3</td>\n",
              "      <td>56</td>\n",
              "      <td>Local</td>\n",
              "      <td>Bakery</td>\n",
              "    </tr>\n",
              "    <tr>\n",
              "      <td>3</td>\n",
              "      <td>4</td>\n",
              "      <td>56</td>\n",
              "      <td>Local</td>\n",
              "      <td>Grocery</td>\n",
              "    </tr>\n",
              "    <tr>\n",
              "      <td>4</td>\n",
              "      <td>5</td>\n",
              "      <td>56</td>\n",
              "      <td>Local</td>\n",
              "      <td>Grocery</td>\n",
              "    </tr>\n",
              "  </tbody>\n",
              "</table>\n",
              "</div>"
            ],
            "text/plain": [
              "   item_id  brand   brand_type       category\n",
              "0        1      1  Established        Grocery\n",
              "1        2      1  Established  Miscellaneous\n",
              "2        3     56        Local         Bakery\n",
              "3        4     56        Local        Grocery\n",
              "4        5     56        Local        Grocery"
            ]
          },
          "execution_count": 19,
          "metadata": {},
          "output_type": "execute_result"
        }
      ],
      "source": [
        "item_data.head()"
      ]
    },
    {
      "cell_type": "code",
      "execution_count": null,
      "metadata": {
        "colab": {
          "base_uri": "https://localhost:8080/",
          "height": 202
        },
        "id": "i1-X1laSuMm0",
        "outputId": "c160175c-cb8b-4846-a41c-f8899dce3b92"
      },
      "outputs": [
        {
          "name": "stdout",
          "output_type": "stream",
          "text": [
            "<class 'pandas.core.frame.DataFrame'>\n",
            "RangeIndex: 74066 entries, 0 to 74065\n",
            "Data columns (total 4 columns):\n",
            "item_id       74066 non-null int64\n",
            "brand         74066 non-null int64\n",
            "brand_type    74066 non-null object\n",
            "category      74066 non-null object\n",
            "dtypes: int64(2), object(2)\n",
            "memory usage: 2.3+ MB\n"
          ]
        }
      ],
      "source": [
        "item_data.info()"
      ]
    },
    {
      "cell_type": "markdown",
      "metadata": {
        "id": "fwajbtEvkoeG"
      },
      "source": [
        "<a id = Section5></a>\n",
        "### **5. Feature Engineering**"
      ]
    },
    {
      "cell_type": "markdown",
      "metadata": {
        "id": "G3doPuhluMw3"
      },
      "source": [
        "**Note:** We will only be focussing on **creating new features** out of the existing features in this notebook."
      ]
    },
    {
      "cell_type": "markdown",
      "metadata": {
        "id": "X9ED6Yr8IWDp"
      },
      "source": [
        "#### **Working with Campaign Data**"
      ]
    },
    {
      "cell_type": "markdown",
      "metadata": {
        "id": "tYtiBo-4HqpB"
      },
      "source": [
        "- Creating new features using the `start_date` and `end_date` features of **campaign_data**.\n",
        "\n",
        "- First, we need to **convert** our `start_data` and `end_date` columns from **object** dtype to **datetime** dtype."
      ]
    },
    {
      "cell_type": "code",
      "execution_count": null,
      "metadata": {
        "id": "FdtlrDfEuM43"
      },
      "outputs": [],
      "source": [
        "campaign_data['start_date'] = pd.to_datetime(campaign_data['start_date'], format='%d/%m/%y', dayfirst=True)\n",
        "campaign_data['end_date'] = pd.to_datetime(campaign_data['end_date'], format='%d/%m/%y', dayfirst=True)"
      ]
    },
    {
      "cell_type": "markdown",
      "metadata": {
        "id": "0b0L4yghGCGR"
      },
      "source": [
        "- Our new features show the **time between** the **start** and **end dates** of each campaign on the basis of **days**, **months**, and **weeks**."
      ]
    },
    {
      "cell_type": "code",
      "execution_count": null,
      "metadata": {
        "id": "2UE2lE1WuM8O"
      },
      "outputs": [],
      "source": [
        "campaign_data['diff_d'] = (campaign_data['end_date'] - campaign_data['start_date']) / np.timedelta64(1, 'D')\n",
        "campaign_data['diff_m'] = (campaign_data['end_date'] - campaign_data['start_date']) / np.timedelta64(1, 'M')\n",
        "campaign_data['diff_w'] = (campaign_data['end_date'] - campaign_data['start_date']) / np.timedelta64(1, 'W')"
      ]
    },
    {
      "cell_type": "code",
      "execution_count": null,
      "metadata": {
        "colab": {
          "base_uri": "https://localhost:8080/",
          "height": 195
        },
        "id": "lTz4ZRDykr0X",
        "outputId": "f0c821e9-4337-4366-e5e9-5198e8035d20"
      },
      "outputs": [
        {
          "data": {
            "text/html": [
              "<div>\n",
              "<style scoped>\n",
              "    .dataframe tbody tr th:only-of-type {\n",
              "        vertical-align: middle;\n",
              "    }\n",
              "\n",
              "    .dataframe tbody tr th {\n",
              "        vertical-align: top;\n",
              "    }\n",
              "\n",
              "    .dataframe thead th {\n",
              "        text-align: right;\n",
              "    }\n",
              "</style>\n",
              "<table border=\"1\" class=\"dataframe\">\n",
              "  <thead>\n",
              "    <tr style=\"text-align: right;\">\n",
              "      <th></th>\n",
              "      <th>campaign_id</th>\n",
              "      <th>campaign_type</th>\n",
              "      <th>start_date</th>\n",
              "      <th>end_date</th>\n",
              "      <th>diff_d</th>\n",
              "      <th>diff_m</th>\n",
              "      <th>diff_w</th>\n",
              "    </tr>\n",
              "  </thead>\n",
              "  <tbody>\n",
              "    <tr>\n",
              "      <th>0</th>\n",
              "      <td>24</td>\n",
              "      <td>Y</td>\n",
              "      <td>2013-10-21</td>\n",
              "      <td>2013-12-20</td>\n",
              "      <td>60.0</td>\n",
              "      <td>1.971293</td>\n",
              "      <td>8.571429</td>\n",
              "    </tr>\n",
              "    <tr>\n",
              "      <th>1</th>\n",
              "      <td>25</td>\n",
              "      <td>Y</td>\n",
              "      <td>2013-10-21</td>\n",
              "      <td>2013-11-22</td>\n",
              "      <td>32.0</td>\n",
              "      <td>1.051356</td>\n",
              "      <td>4.571429</td>\n",
              "    </tr>\n",
              "    <tr>\n",
              "      <th>2</th>\n",
              "      <td>20</td>\n",
              "      <td>Y</td>\n",
              "      <td>2013-09-07</td>\n",
              "      <td>2013-11-16</td>\n",
              "      <td>70.0</td>\n",
              "      <td>2.299842</td>\n",
              "      <td>10.000000</td>\n",
              "    </tr>\n",
              "    <tr>\n",
              "      <th>3</th>\n",
              "      <td>23</td>\n",
              "      <td>Y</td>\n",
              "      <td>2013-10-08</td>\n",
              "      <td>2013-11-15</td>\n",
              "      <td>38.0</td>\n",
              "      <td>1.248486</td>\n",
              "      <td>5.428571</td>\n",
              "    </tr>\n",
              "    <tr>\n",
              "      <th>4</th>\n",
              "      <td>21</td>\n",
              "      <td>Y</td>\n",
              "      <td>2013-09-16</td>\n",
              "      <td>2013-10-18</td>\n",
              "      <td>32.0</td>\n",
              "      <td>1.051356</td>\n",
              "      <td>4.571429</td>\n",
              "    </tr>\n",
              "  </tbody>\n",
              "</table>\n",
              "</div>"
            ],
            "text/plain": [
              "   campaign_id campaign_type start_date   end_date  diff_d    diff_m     diff_w\n",
              "0           24             Y 2013-10-21 2013-12-20    60.0  1.971293   8.571429\n",
              "1           25             Y 2013-10-21 2013-11-22    32.0  1.051356   4.571429\n",
              "2           20             Y 2013-09-07 2013-11-16    70.0  2.299842  10.000000\n",
              "3           23             Y 2013-10-08 2013-11-15    38.0  1.248486   5.428571\n",
              "4           21             Y 2013-09-16 2013-10-18    32.0  1.051356   4.571429"
            ]
          },
          "execution_count": 21,
          "metadata": {
            "tags": []
          },
          "output_type": "execute_result"
        }
      ],
      "source": [
        "campaign_data.head()"
      ]
    },
    {
      "cell_type": "markdown",
      "metadata": {
        "id": "kx7ihES9H7bx"
      },
      "source": [
        "#### **Merging the Campaign Data with Train Data**"
      ]
    },
    {
      "cell_type": "markdown",
      "metadata": {
        "id": "3uTWeJzIJj6q"
      },
      "source": [
        "- We are **merging train** data with **campaign** data on `campaign_id`, performing a **left** join."
      ]
    },
    {
      "cell_type": "code",
      "execution_count": null,
      "metadata": {
        "colab": {
          "base_uri": "https://localhost:8080/",
          "height": 195
        },
        "id": "P3yBAnRwkr3S",
        "outputId": "b2af4836-5749-48da-97d7-e16fcbdd7e14"
      },
      "outputs": [
        {
          "data": {
            "text/html": [
              "<div>\n",
              "<style scoped>\n",
              "    .dataframe tbody tr th:only-of-type {\n",
              "        vertical-align: middle;\n",
              "    }\n",
              "\n",
              "    .dataframe tbody tr th {\n",
              "        vertical-align: top;\n",
              "    }\n",
              "\n",
              "    .dataframe thead th {\n",
              "        text-align: right;\n",
              "    }\n",
              "</style>\n",
              "<table border=\"1\" class=\"dataframe\">\n",
              "  <thead>\n",
              "    <tr style=\"text-align: right;\">\n",
              "      <th></th>\n",
              "      <th>id</th>\n",
              "      <th>campaign_id</th>\n",
              "      <th>coupon_id</th>\n",
              "      <th>customer_id</th>\n",
              "      <th>redemption_status</th>\n",
              "      <th>campaign_type</th>\n",
              "      <th>start_date</th>\n",
              "      <th>end_date</th>\n",
              "      <th>diff_d</th>\n",
              "      <th>diff_m</th>\n",
              "      <th>diff_w</th>\n",
              "    </tr>\n",
              "  </thead>\n",
              "  <tbody>\n",
              "    <tr>\n",
              "      <th>0</th>\n",
              "      <td>1</td>\n",
              "      <td>13</td>\n",
              "      <td>27</td>\n",
              "      <td>1053</td>\n",
              "      <td>0</td>\n",
              "      <td>X</td>\n",
              "      <td>2013-05-19</td>\n",
              "      <td>2013-07-05</td>\n",
              "      <td>47.0</td>\n",
              "      <td>1.544180</td>\n",
              "      <td>6.714286</td>\n",
              "    </tr>\n",
              "    <tr>\n",
              "      <th>1</th>\n",
              "      <td>2</td>\n",
              "      <td>13</td>\n",
              "      <td>116</td>\n",
              "      <td>48</td>\n",
              "      <td>0</td>\n",
              "      <td>X</td>\n",
              "      <td>2013-05-19</td>\n",
              "      <td>2013-07-05</td>\n",
              "      <td>47.0</td>\n",
              "      <td>1.544180</td>\n",
              "      <td>6.714286</td>\n",
              "    </tr>\n",
              "    <tr>\n",
              "      <th>2</th>\n",
              "      <td>6</td>\n",
              "      <td>9</td>\n",
              "      <td>635</td>\n",
              "      <td>205</td>\n",
              "      <td>0</td>\n",
              "      <td>Y</td>\n",
              "      <td>2013-03-11</td>\n",
              "      <td>2013-04-12</td>\n",
              "      <td>32.0</td>\n",
              "      <td>1.051356</td>\n",
              "      <td>4.571429</td>\n",
              "    </tr>\n",
              "    <tr>\n",
              "      <th>3</th>\n",
              "      <td>7</td>\n",
              "      <td>13</td>\n",
              "      <td>644</td>\n",
              "      <td>1050</td>\n",
              "      <td>0</td>\n",
              "      <td>X</td>\n",
              "      <td>2013-05-19</td>\n",
              "      <td>2013-07-05</td>\n",
              "      <td>47.0</td>\n",
              "      <td>1.544180</td>\n",
              "      <td>6.714286</td>\n",
              "    </tr>\n",
              "    <tr>\n",
              "      <th>4</th>\n",
              "      <td>9</td>\n",
              "      <td>8</td>\n",
              "      <td>1017</td>\n",
              "      <td>1489</td>\n",
              "      <td>0</td>\n",
              "      <td>X</td>\n",
              "      <td>2013-02-16</td>\n",
              "      <td>2013-04-05</td>\n",
              "      <td>48.0</td>\n",
              "      <td>1.577034</td>\n",
              "      <td>6.857143</td>\n",
              "    </tr>\n",
              "  </tbody>\n",
              "</table>\n",
              "</div>"
            ],
            "text/plain": [
              "   id  campaign_id  coupon_id  ...  diff_d    diff_m    diff_w\n",
              "0   1           13         27  ...    47.0  1.544180  6.714286\n",
              "1   2           13        116  ...    47.0  1.544180  6.714286\n",
              "2   6            9        635  ...    32.0  1.051356  4.571429\n",
              "3   7           13        644  ...    47.0  1.544180  6.714286\n",
              "4   9            8       1017  ...    48.0  1.577034  6.857143\n",
              "\n",
              "[5 rows x 11 columns]"
            ]
          },
          "execution_count": 22,
          "metadata": {
            "tags": []
          },
          "output_type": "execute_result"
        }
      ],
      "source": [
        "df = train.merge(campaign_data, on='campaign_id', how='left')\n",
        "df.head()"
      ]
    },
    {
      "cell_type": "code",
      "execution_count": null,
      "metadata": {
        "colab": {
          "base_uri": "https://localhost:8080/",
          "height": 34
        },
        "id": "AX76vi5JIRa3",
        "outputId": "cbae8428-63bc-447f-8d44-8174074c38e4"
      },
      "outputs": [
        {
          "data": {
            "text/plain": [
              "(78369, 11)"
            ]
          },
          "execution_count": 23,
          "metadata": {
            "tags": []
          },
          "output_type": "execute_result"
        }
      ],
      "source": [
        "df.shape"
      ]
    },
    {
      "cell_type": "markdown",
      "metadata": {
        "id": "fiTQ84TaInaf"
      },
      "source": [
        "#### **Merging Item Data and Coupon Item Mapping Data**"
      ]
    },
    {
      "cell_type": "code",
      "execution_count": null,
      "metadata": {
        "colab": {
          "base_uri": "https://localhost:8080/",
          "height": 195
        },
        "id": "J4ZVRIKJKRCO",
        "outputId": "d4f0b495-7eac-4077-b950-7b01b5d2b255"
      },
      "outputs": [
        {
          "data": {
            "text/html": [
              "<div>\n",
              "<style scoped>\n",
              "    .dataframe tbody tr th:only-of-type {\n",
              "        vertical-align: middle;\n",
              "    }\n",
              "\n",
              "    .dataframe tbody tr th {\n",
              "        vertical-align: top;\n",
              "    }\n",
              "\n",
              "    .dataframe thead th {\n",
              "        text-align: right;\n",
              "    }\n",
              "</style>\n",
              "<table border=\"1\" class=\"dataframe\">\n",
              "  <thead>\n",
              "    <tr style=\"text-align: right;\">\n",
              "      <th></th>\n",
              "      <th>item_id</th>\n",
              "      <th>brand</th>\n",
              "      <th>brand_type</th>\n",
              "      <th>category</th>\n",
              "    </tr>\n",
              "  </thead>\n",
              "  <tbody>\n",
              "    <tr>\n",
              "      <th>0</th>\n",
              "      <td>1</td>\n",
              "      <td>1</td>\n",
              "      <td>Established</td>\n",
              "      <td>Grocery</td>\n",
              "    </tr>\n",
              "    <tr>\n",
              "      <th>1</th>\n",
              "      <td>2</td>\n",
              "      <td>1</td>\n",
              "      <td>Established</td>\n",
              "      <td>Miscellaneous</td>\n",
              "    </tr>\n",
              "    <tr>\n",
              "      <th>2</th>\n",
              "      <td>3</td>\n",
              "      <td>56</td>\n",
              "      <td>Local</td>\n",
              "      <td>Bakery</td>\n",
              "    </tr>\n",
              "    <tr>\n",
              "      <th>3</th>\n",
              "      <td>4</td>\n",
              "      <td>56</td>\n",
              "      <td>Local</td>\n",
              "      <td>Grocery</td>\n",
              "    </tr>\n",
              "    <tr>\n",
              "      <th>4</th>\n",
              "      <td>5</td>\n",
              "      <td>56</td>\n",
              "      <td>Local</td>\n",
              "      <td>Grocery</td>\n",
              "    </tr>\n",
              "  </tbody>\n",
              "</table>\n",
              "</div>"
            ],
            "text/plain": [
              "   item_id  brand   brand_type       category\n",
              "0        1      1  Established        Grocery\n",
              "1        2      1  Established  Miscellaneous\n",
              "2        3     56        Local         Bakery\n",
              "3        4     56        Local        Grocery\n",
              "4        5     56        Local        Grocery"
            ]
          },
          "execution_count": 24,
          "metadata": {
            "tags": []
          },
          "output_type": "execute_result"
        }
      ],
      "source": [
        "item_data.head()"
      ]
    },
    {
      "cell_type": "markdown",
      "metadata": {
        "id": "5TVUyo3AKUsR"
      },
      "source": [
        "- Printing the **number of distinct values** in different item data columns."
      ]
    },
    {
      "cell_type": "code",
      "execution_count": null,
      "metadata": {
        "colab": {
          "base_uri": "https://localhost:8080/",
          "height": 67
        },
        "id": "2phNCtL2ImM4",
        "outputId": "e7a1f411-b374-4b3a-c7e6-7b89b69ce404"
      },
      "outputs": [
        {
          "name": "stdout",
          "output_type": "stream",
          "text": [
            "brand : 5528\n",
            "brand_type : 2\n",
            "category : 19\n"
          ]
        }
      ],
      "source": [
        "for j in ['brand', 'brand_type', 'category']:\n",
        "    print(j, ':', item_data[j].nunique())"
      ]
    },
    {
      "cell_type": "markdown",
      "metadata": {
        "id": "mHSVzZDXKdIP"
      },
      "source": [
        "- **Converting** the **dtype** of categorical features to **category** dtype."
      ]
    },
    {
      "cell_type": "code",
      "execution_count": null,
      "metadata": {
        "id": "sxZV7L9dIlOM"
      },
      "outputs": [],
      "source": [
        "for j in ['brand', 'brand_type', 'category']:\n",
        "    item_data[j] = item_data[j].astype('category')"
      ]
    },
    {
      "cell_type": "markdown",
      "metadata": {
        "id": "wno8S8gQJxHT"
      },
      "source": [
        "- We are **merging coupon_item_mapping** data with **item** data on `item_id`, performing a **left** join."
      ]
    },
    {
      "cell_type": "code",
      "execution_count": null,
      "metadata": {
        "id": "V2F2PzRnJRDI"
      },
      "outputs": [],
      "source": [
        "coupon_item_mapping = coupon_item_mapping.merge(item_data, on='item_id', how='left')"
      ]
    },
    {
      "cell_type": "code",
      "execution_count": null,
      "metadata": {
        "colab": {
          "base_uri": "https://localhost:8080/",
          "height": 34
        },
        "id": "rw1W3sXkJRFc",
        "outputId": "a07cbc42-9628-4d5f-c597-2748bed76b2d"
      },
      "outputs": [
        {
          "data": {
            "text/plain": [
              "1116"
            ]
          },
          "execution_count": 28,
          "metadata": {
            "tags": []
          },
          "output_type": "execute_result"
        }
      ],
      "source": [
        "coupon_item_mapping.coupon_id.nunique()"
      ]
    },
    {
      "cell_type": "code",
      "execution_count": null,
      "metadata": {
        "colab": {
          "base_uri": "https://localhost:8080/",
          "height": 195
        },
        "id": "K7toVTv5JVDK",
        "outputId": "65a489eb-f628-4add-b094-0b07a3ee5f19"
      },
      "outputs": [
        {
          "data": {
            "text/html": [
              "<div>\n",
              "<style scoped>\n",
              "    .dataframe tbody tr th:only-of-type {\n",
              "        vertical-align: middle;\n",
              "    }\n",
              "\n",
              "    .dataframe tbody tr th {\n",
              "        vertical-align: top;\n",
              "    }\n",
              "\n",
              "    .dataframe thead th {\n",
              "        text-align: right;\n",
              "    }\n",
              "</style>\n",
              "<table border=\"1\" class=\"dataframe\">\n",
              "  <thead>\n",
              "    <tr style=\"text-align: right;\">\n",
              "      <th></th>\n",
              "      <th>coupon_id</th>\n",
              "      <th>item_id</th>\n",
              "      <th>brand</th>\n",
              "      <th>brand_type</th>\n",
              "      <th>category</th>\n",
              "    </tr>\n",
              "  </thead>\n",
              "  <tbody>\n",
              "    <tr>\n",
              "      <th>0</th>\n",
              "      <td>105</td>\n",
              "      <td>37</td>\n",
              "      <td>56</td>\n",
              "      <td>Local</td>\n",
              "      <td>Grocery</td>\n",
              "    </tr>\n",
              "    <tr>\n",
              "      <th>1</th>\n",
              "      <td>107</td>\n",
              "      <td>75</td>\n",
              "      <td>56</td>\n",
              "      <td>Local</td>\n",
              "      <td>Grocery</td>\n",
              "    </tr>\n",
              "    <tr>\n",
              "      <th>2</th>\n",
              "      <td>494</td>\n",
              "      <td>76</td>\n",
              "      <td>209</td>\n",
              "      <td>Established</td>\n",
              "      <td>Grocery</td>\n",
              "    </tr>\n",
              "    <tr>\n",
              "      <th>3</th>\n",
              "      <td>522</td>\n",
              "      <td>77</td>\n",
              "      <td>278</td>\n",
              "      <td>Established</td>\n",
              "      <td>Grocery</td>\n",
              "    </tr>\n",
              "    <tr>\n",
              "      <th>4</th>\n",
              "      <td>518</td>\n",
              "      <td>77</td>\n",
              "      <td>278</td>\n",
              "      <td>Established</td>\n",
              "      <td>Grocery</td>\n",
              "    </tr>\n",
              "  </tbody>\n",
              "</table>\n",
              "</div>"
            ],
            "text/plain": [
              "   coupon_id  item_id brand   brand_type category\n",
              "0        105       37    56        Local  Grocery\n",
              "1        107       75    56        Local  Grocery\n",
              "2        494       76   209  Established  Grocery\n",
              "3        522       77   278  Established  Grocery\n",
              "4        518       77   278  Established  Grocery"
            ]
          },
          "execution_count": 29,
          "metadata": {
            "tags": []
          },
          "output_type": "execute_result"
        }
      ],
      "source": [
        "coupon_item_mapping.head()"
      ]
    },
    {
      "cell_type": "code",
      "execution_count": null,
      "metadata": {
        "colab": {
          "base_uri": "https://localhost:8080/",
          "height": 34
        },
        "id": "gZ7ykg3BJYwd",
        "outputId": "6228a87a-f66e-4c65-89a1-799914879714"
      },
      "outputs": [
        {
          "data": {
            "text/plain": [
              "(92663, 5)"
            ]
          },
          "execution_count": 30,
          "metadata": {
            "tags": []
          },
          "output_type": "execute_result"
        }
      ],
      "source": [
        "coupon_item_mapping.shape"
      ]
    },
    {
      "cell_type": "markdown",
      "metadata": {
        "id": "Kxh02VmtLTLt"
      },
      "source": [
        ""
      ]
    },
    {
      "cell_type": "code",
      "execution_count": null,
      "metadata": {
        "id": "1s_ebfdQKtvM"
      },
      "outputs": [],
      "source": [
        ""
      ]
    }
  ],
  "metadata": {
    "colab": {
      "collapsed_sections": [],
      "name": "2. Feature Engineering (Beginning).ipynb",
      "provenance": [],
      "toc_visible": true,
      "include_colab_link": true
    },
    "kernelspec": {
      "display_name": "Python 3",
      "language": "python",
      "name": "python3"
    },
    "language_info": {
      "codemirror_mode": {
        "name": "ipython",
        "version": 3
      },
      "file_extension": ".py",
      "mimetype": "text/x-python",
      "name": "python",
      "nbconvert_exporter": "python",
      "pygments_lexer": "ipython3",
      "version": "3.7.4"
    }
  },
  "nbformat": 4,
  "nbformat_minor": 0
}